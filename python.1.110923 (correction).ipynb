{
 "cells": [
  {
   "cell_type": "markdown",
   "metadata": {},
   "source": [
    "#  Python Fundamentals - Session 1 - 11/09/23"
   ]
  },
  {
   "cell_type": "markdown",
   "metadata": {},
   "source": [
    "## 1)  Jupyter Notebooks"
   ]
  },
  {
   "cell_type": "markdown",
   "metadata": {},
   "source": [
    "Contains Markdown cells and Code cells\n",
    "\n",
    "### Mardown cells\n",
    "Markdown is text containing special characters for formatting.  \n",
    "For instance :  \n",
    "`# title`  \n",
    "will display a big title when the cell is rendered\n",
    "- double click in a markdown cell to edit\n",
    "- ctrl + enter to render the cell\n",
    "- shift + enter to render the cell \n",
    "\n",
    "\n",
    "### Code Cells\n",
    "for executable python code. \n",
    "The output of the code will be displayed after the code cell\n"
   ]
  },
  {
   "cell_type": "code",
   "execution_count": 5,
   "metadata": {},
   "outputs": [
    {
     "name": "stdout",
     "output_type": "stream",
     "text": [
      "hello world\n"
     ]
    }
   ],
   "source": [
    "print(\"hello world\")"
   ]
  },
  {
   "cell_type": "markdown",
   "metadata": {},
   "source": [
    "### Basic Jupyter notebooks usage\n",
    "- ESC to exit edit mode\n",
    "- Arrow Up and Down to navigate between cells\n",
    "- ENTER to edit the cell\n",
    "- A or B to insert a new cell above or below the active cell.\n",
    "- M transform the cell in markdown cell\n",
    "- Y transform the cell to a code cell\n",
    "- D D delete the active cell ( press esc before)\n",
    "- Shift Enter to render markdown cell, or execute code cell\n",
    "\n",
    "TRY IT !\n",
    "\n",
    "For basic mardown syntax -> https://www.markdownguide.org/basic-syntax/\n",
    "\n",
    "### Saving your notebooks\n",
    "- ctrl + s on windows\n",
    "- command + s on mac \n",
    "\n",
    "your .ipynb file should be visible in your file explorer ( finder).\n",
    "\n",
    "you are advised to store it in an online folder ( dropbox, icloud drive, onedrive, google drive...)\n",
    "\n",
    "### 3 different ways to code in python : \n",
    "\n",
    "- basic : terminal / browser\n",
    "- local notebook : visual studio code with jupyter module\n",
    "- online notebook : google colab\n",
    "\n"
   ]
  },
  {
   "cell_type": "code",
   "execution_count": null,
   "metadata": {},
   "outputs": [],
   "source": []
  },
  {
   "cell_type": "markdown",
   "metadata": {},
   "source": [
    "# Les Variables"
   ]
  },
  {
   "cell_type": "code",
   "execution_count": 6,
   "metadata": {},
   "outputs": [],
   "source": [
    "A=7"
   ]
  },
  {
   "cell_type": "code",
   "execution_count": 7,
   "metadata": {},
   "outputs": [
    {
     "name": "stdout",
     "output_type": "stream",
     "text": [
      "A\n"
     ]
    }
   ],
   "source": [
    "print(\"A\")"
   ]
  },
  {
   "cell_type": "code",
   "execution_count": 8,
   "metadata": {},
   "outputs": [
    {
     "ename": "NameError",
     "evalue": "name 'AA' is not defined",
     "output_type": "error",
     "traceback": [
      "\u001b[0;31m---------------------------------------------------------------------------\u001b[0m",
      "\u001b[0;31mNameError\u001b[0m                                 Traceback (most recent call last)",
      "\u001b[1;32m/Users/ben/Dropbox/_PROJECTS_CO/ON/PROF_ALBERT/bootcamp msc 2023/python1.ipynb Cellule 6\u001b[0m in \u001b[0;36m1\n\u001b[0;32m----> <a href='vscode-notebook-cell:/Users/ben/Dropbox/_PROJECTS_CO/ON/PROF_ALBERT/bootcamp%20msc%202023/python1.ipynb#W5sZmlsZQ%3D%3D?line=0'>1</a>\u001b[0m \u001b[39mprint\u001b[39m(AA)\n",
      "\u001b[0;31mNameError\u001b[0m: name 'AA' is not defined"
     ]
    }
   ],
   "source": [
    "# La variable AA n'existe pas, donc il est normal d'avoir un message d'erreur. \n",
    "# Le message d'erreur n'est pas un bug, il faut apprendre a le lire\n",
    "# name 'AA' is not defined\n",
    "# This is not a bug, it's a feature\n",
    "print(AA)"
   ]
  },
  {
   "cell_type": "code",
   "execution_count": null,
   "metadata": {},
   "outputs": [
    {
     "name": "stdout",
     "output_type": "stream",
     "text": [
      "7\n"
     ]
    }
   ],
   "source": [
    "print(A)"
   ]
  },
  {
   "cell_type": "code",
   "execution_count": 1,
   "metadata": {},
   "outputs": [
    {
     "name": "stdout",
     "output_type": "stream",
     "text": [
      "lorem ipsum..\n"
     ]
    }
   ],
   "source": [
    "texte = \"lorem ipsum..\"\n",
    "print(texte)"
   ]
  },
  {
   "cell_type": "code",
   "execution_count": 2,
   "metadata": {},
   "outputs": [
    {
     "name": "stdout",
     "output_type": "stream",
     "text": [
      "42\n"
     ]
    }
   ],
   "source": [
    "nombre=32\n",
    "print(nombre+10)"
   ]
  },
  {
   "cell_type": "code",
   "execution_count": null,
   "metadata": {},
   "outputs": [],
   "source": [
    "print()"
   ]
  },
  {
   "cell_type": "code",
   "execution_count": 1,
   "metadata": {},
   "outputs": [
    {
     "name": "stdout",
     "output_type": "stream",
     "text": [
      "toto\n"
     ]
    }
   ],
   "source": [
    "print(\"toto\")"
   ]
  },
  {
   "cell_type": "code",
   "execution_count": 2,
   "metadata": {},
   "outputs": [
    {
     "ename": "NameError",
     "evalue": "name 'toto' is not defined",
     "output_type": "error",
     "traceback": [
      "\u001b[0;31m---------------------------------------------------------------------------\u001b[0m",
      "\u001b[0;31mNameError\u001b[0m                                 Traceback (most recent call last)",
      "\u001b[1;32m/Users/ben/Dropbox/_PROJECTS_CO/ON/PROF_ALBERT/bootcamp msc 2023/python.1.ipynb Cellule 12\u001b[0m in \u001b[0;36m1\n\u001b[0;32m----> <a href='vscode-notebook-cell:/Users/ben/Dropbox/_PROJECTS_CO/ON/PROF_ALBERT/bootcamp%20msc%202023/python.1.ipynb#X15sZmlsZQ%3D%3D?line=0'>1</a>\u001b[0m \u001b[39mprint\u001b[39m(\u001b[39mtype\u001b[39m(toto))\n",
      "\u001b[0;31mNameError\u001b[0m: name 'toto' is not defined"
     ]
    }
   ],
   "source": [
    "print(type(toto))"
   ]
  },
  {
   "cell_type": "code",
   "execution_count": 3,
   "metadata": {},
   "outputs": [],
   "source": [
    "toto=\"toto\""
   ]
  },
  {
   "cell_type": "code",
   "execution_count": 4,
   "metadata": {},
   "outputs": [
    {
     "name": "stdout",
     "output_type": "stream",
     "text": [
      "<class 'str'>\n"
     ]
    }
   ],
   "source": [
    "print( type(toto))"
   ]
  },
  {
   "cell_type": "code",
   "execution_count": 6,
   "metadata": {},
   "outputs": [
    {
     "name": "stdout",
     "output_type": "stream",
     "text": [
      "<class 'int'>\n"
     ]
    }
   ],
   "source": [
    "A=7\n",
    "print(type(A))"
   ]
  },
  {
   "cell_type": "code",
   "execution_count": 7,
   "metadata": {},
   "outputs": [
    {
     "name": "stdout",
     "output_type": "stream",
     "text": [
      "<class 'str'>\n"
     ]
    }
   ],
   "source": [
    "B=\"7\"\n",
    "print( type(B))"
   ]
  },
  {
   "cell_type": "markdown",
   "metadata": {},
   "source": [
    "Python donne automatiquement un type aux variables que je crée"
   ]
  },
  {
   "cell_type": "code",
   "execution_count": 8,
   "metadata": {},
   "outputs": [
    {
     "name": "stdout",
     "output_type": "stream",
     "text": [
      "10\n"
     ]
    }
   ],
   "source": [
    "\n",
    "print(2*5)"
   ]
  },
  {
   "cell_type": "code",
   "execution_count": 11,
   "metadata": {},
   "outputs": [
    {
     "data": {
      "text/plain": [
       "10"
      ]
     },
     "execution_count": 11,
     "metadata": {},
     "output_type": "execute_result"
    }
   ],
   "source": [
    "2*3\n",
    "2*5"
   ]
  },
  {
   "cell_type": "markdown",
   "metadata": {},
   "source": [
    "on observe que la**derniere ligne** d'une cellule de code jupyter est \"printée\" par défaut"
   ]
  },
  {
   "cell_type": "code",
   "execution_count": 12,
   "metadata": {},
   "outputs": [
    {
     "name": "stdout",
     "output_type": "stream",
     "text": [
      "Hello world!\n"
     ]
    }
   ],
   "source": [
    "machaine=\"Hello world!\"\n",
    "print(machaine)"
   ]
  },
  {
   "cell_type": "code",
   "execution_count": 13,
   "metadata": {},
   "outputs": [
    {
     "name": "stdout",
     "output_type": "stream",
     "text": [
      "le contenu de ma variable est Hello world!\n"
     ]
    }
   ],
   "source": [
    "print(\"le contenu de ma variable est\",machaine)"
   ]
  },
  {
   "cell_type": "code",
   "execution_count": 15,
   "metadata": {},
   "outputs": [
    {
     "name": "stdout",
     "output_type": "stream",
     "text": [
      "toto 7 7 Hello world!\n"
     ]
    }
   ],
   "source": [
    "print(toto,A,B,machaine)"
   ]
  },
  {
   "cell_type": "code",
   "execution_count": 16,
   "metadata": {},
   "outputs": [],
   "source": [
    "machaine='toto'"
   ]
  },
  {
   "cell_type": "code",
   "execution_count": 17,
   "metadata": {},
   "outputs": [],
   "source": [
    "machaine= \"l'apstrophe\""
   ]
  },
  {
   "cell_type": "code",
   "execution_count": 19,
   "metadata": {},
   "outputs": [],
   "source": [
    "machaine=' un guillemet: \"'"
   ]
  },
  {
   "cell_type": "code",
   "execution_count": 20,
   "metadata": {},
   "outputs": [
    {
     "name": "stdout",
     "output_type": "stream",
     "text": [
      " un guillemet: \"\n"
     ]
    }
   ],
   "source": [
    "print(machaine)"
   ]
  },
  {
   "cell_type": "code",
   "execution_count": 21,
   "metadata": {},
   "outputs": [
    {
     "name": "stdout",
     "output_type": "stream",
     "text": [
      "\n",
      "\n",
      "sdmlkfs\n",
      "dmfkls\n",
      "mdklf\n",
      "smdklf\n",
      "smdfkl\n",
      "\n"
     ]
    }
   ],
   "source": [
    "grandechaine=\"\"\"\n",
    "\n",
    "sdmlkfs\n",
    "dmfkls\n",
    "mdklf\n",
    "smdklf\n",
    "smdfkl\n",
    "\"\"\"\n",
    "\n",
    "print(grandechaine)\n"
   ]
  },
  {
   "cell_type": "code",
   "execution_count": 24,
   "metadata": {},
   "outputs": [
    {
     "name": "stdout",
     "output_type": "stream",
     "text": [
      "totofait du python\n"
     ]
    }
   ],
   "source": [
    "str1=\"toto\"\n",
    "str2=\"fait du python\"\n",
    "str3=str1+str2\n",
    "\n",
    "print(str3)"
   ]
  },
  {
   "cell_type": "code",
   "execution_count": 25,
   "metadata": {},
   "outputs": [
    {
     "name": "stdout",
     "output_type": "stream",
     "text": [
      "toto fait du python\n"
     ]
    }
   ],
   "source": [
    "str3=str1+\" \"+str2\n",
    "print(str3)"
   ]
  },
  {
   "cell_type": "code",
   "execution_count": 3,
   "metadata": {},
   "outputs": [],
   "source": [
    "prenom = input(\"quel est ton prenom ?\")"
   ]
  },
  {
   "cell_type": "code",
   "execution_count": 4,
   "metadata": {},
   "outputs": [
    {
     "name": "stdout",
     "output_type": "stream",
     "text": [
      "bonjour ben\n"
     ]
    }
   ],
   "source": [
    "print(\"bonjour\", prenom)"
   ]
  },
  {
   "cell_type": "code",
   "execution_count": 5,
   "metadata": {},
   "outputs": [],
   "source": [
    "chiffre= input(\"entre un chiffre\")"
   ]
  },
  {
   "cell_type": "code",
   "execution_count": 6,
   "metadata": {},
   "outputs": [
    {
     "ename": "TypeError",
     "evalue": "can only concatenate str (not \"int\") to str",
     "output_type": "error",
     "traceback": [
      "\u001b[0;31m---------------------------------------------------------------------------\u001b[0m",
      "\u001b[0;31mTypeError\u001b[0m                                 Traceback (most recent call last)",
      "\u001b[1;32m/Users/ben/Dropbox/_PROJECTS_CO/ON/PROF_ALBERT/bootcamp msc 2023/python.1.ipynb Cellule 34\u001b[0m in \u001b[0;36m1\n\u001b[0;32m----> <a href='vscode-notebook-cell:/Users/ben/Dropbox/_PROJECTS_CO/ON/PROF_ALBERT/bootcamp%20msc%202023/python.1.ipynb#X53sZmlsZQ%3D%3D?line=0'>1</a>\u001b[0m \u001b[39mprint\u001b[39m(chiffre\u001b[39m+\u001b[39;49m\u001b[39m2\u001b[39;49m)\n",
      "\u001b[0;31mTypeError\u001b[0m: can only concatenate str (not \"int\") to str"
     ]
    }
   ],
   "source": [
    "print(chiffre+2)"
   ]
  },
  {
   "cell_type": "markdown",
   "metadata": {},
   "source": [
    "je veux maintenant changer le type de ma variable en INT\n",
    "on va faire une conversion de type"
   ]
  },
  {
   "cell_type": "code",
   "execution_count": 7,
   "metadata": {},
   "outputs": [
    {
     "name": "stdout",
     "output_type": "stream",
     "text": [
      "9\n"
     ]
    }
   ],
   "source": [
    "C = int(chiffre)\n",
    "print(C+2)"
   ]
  },
  {
   "cell_type": "markdown",
   "metadata": {},
   "source": [
    "je peux aussi assigner le resultat a la variable chiffre"
   ]
  },
  {
   "cell_type": "code",
   "execution_count": 8,
   "metadata": {},
   "outputs": [
    {
     "name": "stdout",
     "output_type": "stream",
     "text": [
      "8\n"
     ]
    }
   ],
   "source": [
    "chiffre = input(\"entre un chiffre\")\n",
    "chiffre = int(chiffre)\n",
    "print(chiffre + 1)"
   ]
  },
  {
   "cell_type": "code",
   "execution_count": 9,
   "metadata": {},
   "outputs": [
    {
     "ename": "TypeError",
     "evalue": "can only concatenate str (not \"int\") to str",
     "output_type": "error",
     "traceback": [
      "\u001b[0;31m---------------------------------------------------------------------------\u001b[0m",
      "\u001b[0;31mTypeError\u001b[0m                                 Traceback (most recent call last)",
      "\u001b[1;32m/Users/ben/Dropbox/_PROJECTS_CO/ON/PROF_ALBERT/bootcamp msc 2023/python.1.ipynb Cellule 39\u001b[0m in \u001b[0;36m2\n\u001b[1;32m      <a href='vscode-notebook-cell:/Users/ben/Dropbox/_PROJECTS_CO/ON/PROF_ALBERT/bootcamp%20msc%202023/python.1.ipynb#X64sZmlsZQ%3D%3D?line=0'>1</a>\u001b[0m chiffre \u001b[39m=\u001b[39m \u001b[39m1872\u001b[39m\n\u001b[0;32m----> <a href='vscode-notebook-cell:/Users/ben/Dropbox/_PROJECTS_CO/ON/PROF_ALBERT/bootcamp%20msc%202023/python.1.ipynb#X64sZmlsZQ%3D%3D?line=1'>2</a>\u001b[0m chaine  \u001b[39m=\u001b[39m \u001b[39m\"\u001b[39;49m\u001b[39mil est né en\u001b[39;49m\u001b[39m\"\u001b[39;49m \u001b[39m+\u001b[39;49m chiffre\n",
      "\u001b[0;31mTypeError\u001b[0m: can only concatenate str (not \"int\") to str"
     ]
    }
   ],
   "source": [
    "chiffre = 1872\n",
    "chaine  = \"il est né en\" + chiffre"
   ]
  },
  {
   "cell_type": "markdown",
   "metadata": {},
   "source": [
    "je veux changer le type de ma variable chiffre en str"
   ]
  },
  {
   "cell_type": "code",
   "execution_count": 14,
   "metadata": {},
   "outputs": [
    {
     "name": "stdout",
     "output_type": "stream",
     "text": [
      "il est né en 1872\n"
     ]
    }
   ],
   "source": [
    "chiffre = 1872\n",
    "chiffre = str(chiffre)\n",
    "chaine  = \"il est né en \" + chiffre\n",
    "print(chaine)"
   ]
  },
  {
   "cell_type": "code",
   "execution_count": 15,
   "metadata": {},
   "outputs": [],
   "source": [
    "a,b,c = 3, 4, 5"
   ]
  },
  {
   "cell_type": "code",
   "execution_count": 16,
   "metadata": {},
   "outputs": [
    {
     "name": "stdout",
     "output_type": "stream",
     "text": [
      "5 4 3\n"
     ]
    }
   ],
   "source": [
    "a , c = c , a\n",
    "print( a,b,c)"
   ]
  },
  {
   "cell_type": "markdown",
   "metadata": {},
   "source": [
    "a gauche du signe egal, on a le nom des variables à  créer ou écraser, a droite, on a des valeurs ou des variables dont on va extraire la valeur."
   ]
  },
  {
   "cell_type": "code",
   "execution_count": 17,
   "metadata": {},
   "outputs": [
    {
     "name": "stdout",
     "output_type": "stream",
     "text": [
      "Le volume total est de : 1000\n"
     ]
    }
   ],
   "source": [
    "h=int(input(\"Quelle est la hauteur du volume ?\"))\n",
    "L=int(input(\"Quelle est la longueur du volume ?\"))\n",
    "l=int(input(\"Quelle est la largeur du volume ?\"))\n",
    "volume=h*L*l\n",
    "# si j'utilise la concatenation (+) pour afficher les deux chaines\n",
    "# je dois changer le type de volume de INT vers STR avec la fonction str()\n",
    "print(\"Le volume total est de : \"+ str(volume))"
   ]
  },
  {
   "cell_type": "code",
   "execution_count": null,
   "metadata": {},
   "outputs": [],
   "source": [
    "h=int(input(\"Quelle est la hauteur du volume ?\"))\n",
    "L=int(input(\"Quelle est la longueur du volume ?\"))\n",
    "l=int(input(\"Quelle est la largeur du volume ?\"))\n",
    "volume=h*L*l\n",
    "# si j'utilise la possilité offerte par la fonction print, d'afficher plsrs variables séparées par des espaces\n",
    "# je n'ai pas besoin de transtyper\n",
    "print(\"Le volume total est de : \",volume)"
   ]
  },
  {
   "cell_type": "code",
   "execution_count": 18,
   "metadata": {},
   "outputs": [
    {
     "name": "stdout",
     "output_type": "stream",
     "text": [
      "<class 'int'>\n"
     ]
    }
   ],
   "source": [
    "print( type(volume))"
   ]
  },
  {
   "cell_type": "code",
   "execution_count": 19,
   "metadata": {},
   "outputs": [
    {
     "ename": "TypeError",
     "evalue": "can only concatenate str (not \"int\") to str",
     "output_type": "error",
     "traceback": [
      "\u001b[0;31m---------------------------------------------------------------------------\u001b[0m",
      "\u001b[0;31mTypeError\u001b[0m                                 Traceback (most recent call last)",
      "\u001b[1;32m/Users/ben/Dropbox/_PROJECTS_CO/ON/PROF_ALBERT/bootcamp msc 2023/python.1.ipynb Cellule 48\u001b[0m in \u001b[0;36m4\n\u001b[1;32m      <a href='vscode-notebook-cell:/Users/ben/Dropbox/_PROJECTS_CO/ON/PROF_ALBERT/bootcamp%20msc%202023/python.1.ipynb#Y104sZmlsZQ%3D%3D?line=0'>1</a>\u001b[0m \u001b[39m# si je veux assembler deux variables STR dans une nouvelle variable STR\u001b[39;00m\n\u001b[1;32m      <a href='vscode-notebook-cell:/Users/ben/Dropbox/_PROJECTS_CO/ON/PROF_ALBERT/bootcamp%20msc%202023/python.1.ipynb#Y104sZmlsZQ%3D%3D?line=1'>2</a>\u001b[0m \u001b[39m# je suis obligé de CONCATENER\u001b[39;00m\n\u001b[1;32m      <a href='vscode-notebook-cell:/Users/ben/Dropbox/_PROJECTS_CO/ON/PROF_ALBERT/bootcamp%20msc%202023/python.1.ipynb#Y104sZmlsZQ%3D%3D?line=2'>3</a>\u001b[0m \u001b[39m# si volume est de type INT ca ne fonctionne pas \u001b[39;00m\n\u001b[0;32m----> <a href='vscode-notebook-cell:/Users/ben/Dropbox/_PROJECTS_CO/ON/PROF_ALBERT/bootcamp%20msc%202023/python.1.ipynb#Y104sZmlsZQ%3D%3D?line=3'>4</a>\u001b[0m fullStr \u001b[39m=\u001b[39m \u001b[39m\"\u001b[39;49m\u001b[39mle volume total est :\u001b[39;49m\u001b[39m\"\u001b[39;49m \u001b[39m+\u001b[39;49m volume\n",
      "\u001b[0;31mTypeError\u001b[0m: can only concatenate str (not \"int\") to str"
     ]
    }
   ],
   "source": [
    "# si je veux assembler deux variables STR dans une nouvelle variable STR\n",
    "# je suis obligé de CONCATENER\n",
    "# si volume est de type INT ca ne fonctionne pas \n",
    "fullStr = \"le volume total est :\" + volume"
   ]
  },
  {
   "cell_type": "code",
   "execution_count": 20,
   "metadata": {},
   "outputs": [],
   "source": [
    "# on ne peut pas utiliser la virgule pour concatener\n",
    "fullStr = \"le volume total est:\", volume"
   ]
  },
  {
   "cell_type": "code",
   "execution_count": 21,
   "metadata": {},
   "outputs": [
    {
     "data": {
      "text/plain": [
       "('le volume total est:', 1000)"
      ]
     },
     "execution_count": 21,
     "metadata": {},
     "output_type": "execute_result"
    }
   ],
   "source": [
    "fullStr"
   ]
  },
  {
   "cell_type": "code",
   "execution_count": 22,
   "metadata": {},
   "outputs": [
    {
     "name": "stdout",
     "output_type": "stream",
     "text": [
      "<class 'tuple'>\n"
     ]
    }
   ],
   "source": [
    "print(type(fullStr))"
   ]
  },
  {
   "cell_type": "code",
   "execution_count": 23,
   "metadata": {},
   "outputs": [
    {
     "data": {
      "text/plain": [
       "'le volume total est:1000'"
      ]
     },
     "execution_count": 23,
     "metadata": {},
     "output_type": "execute_result"
    }
   ],
   "source": [
    "# on voit qu'on obtient pas le résultat attendu.\n",
    "# il fallait passer la variable en str() avant de concatener pour obtenir une string\n",
    "fullStr = \"le volume total est:\" + str(volume)\n",
    "fullStr"
   ]
  }
 ],
 "metadata": {
  "kernelspec": {
   "display_name": "Python 3",
   "language": "python",
   "name": "python3"
  },
  "language_info": {
   "codemirror_mode": {
    "name": "ipython",
    "version": 3
   },
   "file_extension": ".py",
   "mimetype": "text/x-python",
   "name": "python",
   "nbconvert_exporter": "python",
   "pygments_lexer": "ipython3",
   "version": "3.10.8"
  },
  "orig_nbformat": 4
 },
 "nbformat": 4,
 "nbformat_minor": 2
}
