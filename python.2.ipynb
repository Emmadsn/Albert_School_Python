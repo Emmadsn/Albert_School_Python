{
 "cells": [
  {
   "cell_type": "markdown",
   "metadata": {},
   "source": [
    "#  Python Fundamentals - Session 2 - 12/09/23"
   ]
  },
  {
   "cell_type": "code",
   "execution_count": 1,
   "metadata": {},
   "outputs": [],
   "source": [
    "myString = \"Python !\""
   ]
  },
  {
   "cell_type": "code",
   "execution_count": 2,
   "metadata": {},
   "outputs": [
    {
     "name": "stdout",
     "output_type": "stream",
     "text": [
      "8\n"
     ]
    }
   ],
   "source": [
    "# la fonction len() renvoie le nb de caractères d'une chaine\n",
    "\n",
    "print( len(myString))"
   ]
  },
  {
   "cell_type": "code",
   "execution_count": 3,
   "metadata": {},
   "outputs": [
    {
     "data": {
      "text/plain": [
       "8"
      ]
     },
     "execution_count": 3,
     "metadata": {},
     "output_type": "execute_result"
    }
   ],
   "source": [
    "# la dernière ligne d'une cellule jupyter est \"printée\" par défaut\n",
    "len(myString)"
   ]
  },
  {
   "cell_type": "markdown",
   "metadata": {},
   "source": []
  },
  {
   "cell_type": "code",
   "execution_count": 4,
   "metadata": {},
   "outputs": [
    {
     "name": "stdout",
     "output_type": "stream",
     "text": [
      "P\n"
     ]
    }
   ],
   "source": [
    "print (myString[0])"
   ]
  },
  {
   "cell_type": "code",
   "execution_count": 5,
   "metadata": {},
   "outputs": [
    {
     "name": "stdout",
     "output_type": "stream",
     "text": [
      "y\n"
     ]
    }
   ],
   "source": [
    "print (myString[1])"
   ]
  },
  {
   "cell_type": "code",
   "execution_count": 6,
   "metadata": {},
   "outputs": [
    {
     "name": "stdout",
     "output_type": "stream",
     "text": [
      "!\n"
     ]
    }
   ],
   "source": [
    "print (myString[-1])"
   ]
  },
  {
   "cell_type": "code",
   "execution_count": 12,
   "metadata": {},
   "outputs": [
    {
     "name": "stdout",
     "output_type": "stream",
     "text": [
      "\"   \"\n"
     ]
    }
   ],
   "source": [
    "print ('\"',myString[-2],'\"')"
   ]
  },
  {
   "cell_type": "code",
   "execution_count": 14,
   "metadata": {},
   "outputs": [
    {
     "name": "stdout",
     "output_type": "stream",
     "text": [
      "\" \"\n"
     ]
    }
   ],
   "source": [
    "print ('\"'+myString[-2]+'\"')"
   ]
  },
  {
   "cell_type": "code",
   "execution_count": 13,
   "metadata": {},
   "outputs": [
    {
     "name": "stdout",
     "output_type": "stream",
     "text": [
      "1 2 3\n"
     ]
    }
   ],
   "source": [
    "# print ajoute automatiquement un espace entre les arguments affichés\n",
    "print(1,2,3)"
   ]
  },
  {
   "cell_type": "code",
   "execution_count": 16,
   "metadata": {},
   "outputs": [
    {
     "name": "stdout",
     "output_type": "stream",
     "text": [
      "Python !\n"
     ]
    }
   ],
   "source": [
    "# passer la premiere lettre en majuscule\n",
    "print( myString.capitalize() )"
   ]
  },
  {
   "cell_type": "code",
   "execution_count": 17,
   "metadata": {},
   "outputs": [
    {
     "name": "stdout",
     "output_type": "stream",
     "text": [
      "PYTHON !\n"
     ]
    }
   ],
   "source": [
    "# passer toute la chaine en majuscule \n",
    "\n",
    "print(myString.upper())"
   ]
  },
  {
   "cell_type": "code",
   "execution_count": 18,
   "metadata": {},
   "outputs": [
    {
     "name": "stdout",
     "output_type": "stream",
     "text": [
      "Python !\n"
     ]
    }
   ],
   "source": [
    "# attention, myString.upper() n'a pas modifié le contenu de la variable myString\n",
    "print(myString)"
   ]
  },
  {
   "cell_type": "code",
   "execution_count": 19,
   "metadata": {},
   "outputs": [
    {
     "name": "stdout",
     "output_type": "stream",
     "text": [
      "PYTHON !\n"
     ]
    }
   ],
   "source": [
    "# si je veux changer le contenu de la variable, je dois la ré assigner\n",
    "myString = myString.upper()\n",
    "print(myString)"
   ]
  },
  {
   "cell_type": "code",
   "execution_count": 20,
   "metadata": {},
   "outputs": [],
   "source": [
    "myString=\"python !\""
   ]
  },
  {
   "cell_type": "code",
   "execution_count": 21,
   "metadata": {},
   "outputs": [
    {
     "name": "stdout",
     "output_type": "stream",
     "text": [
      "Python !\n",
      "PYTHON !\n",
      "python !\n"
     ]
    }
   ],
   "source": [
    "print(myString.capitalize())\n",
    "print(myString.upper())\n",
    "print(myString.lower())"
   ]
  },
  {
   "cell_type": "code",
   "execution_count": 25,
   "metadata": {},
   "outputs": [
    {
     "name": "stdout",
     "output_type": "stream",
     "text": [
      "j'ai fait mes devoirs\n"
     ]
    }
   ],
   "source": [
    "myString =\"j'ai fait mes devoirs\"\n",
    "myString.replace(\"devoir\",\"exercice\")\n",
    "# ATTENTION, a nouveau, .replace() n'a pas modifié en mémoire le contenu de myString\n",
    "print(myString)"
   ]
  },
  {
   "cell_type": "code",
   "execution_count": 26,
   "metadata": {},
   "outputs": [
    {
     "name": "stdout",
     "output_type": "stream",
     "text": [
      "j'ai fait mes exercices\n"
     ]
    }
   ],
   "source": [
    "myString =\"j'ai fait mes devoirs\"\n",
    "print( myString.replace(\"devoir\",\"exercice\") )"
   ]
  },
  {
   "cell_type": "code",
   "execution_count": 31,
   "metadata": {},
   "outputs": [
    {
     "name": "stdout",
     "output_type": "stream",
     "text": [
      "4\n"
     ]
    }
   ],
   "source": [
    "# EXERCICE 1\n",
    "myString = input(\"saisir une chaine\")\n",
    "print(len(myString))"
   ]
  },
  {
   "cell_type": "code",
   "execution_count": 28,
   "metadata": {},
   "outputs": [
    {
     "name": "stdout",
     "output_type": "stream",
     "text": [
      "Toto\n"
     ]
    }
   ],
   "source": [
    "print(myString.capitalize())"
   ]
  },
  {
   "cell_type": "code",
   "execution_count": 29,
   "metadata": {},
   "outputs": [
    {
     "name": "stdout",
     "output_type": "stream",
     "text": [
      "TOTO\n"
     ]
    }
   ],
   "source": [
    "print(myString.upper())"
   ]
  },
  {
   "cell_type": "code",
   "execution_count": 38,
   "metadata": {},
   "outputs": [
    {
     "name": "stdout",
     "output_type": "stream",
     "text": [
      "Tue Sep 12 12:11:05 2023\n",
      "43865\n"
     ]
    }
   ],
   "source": [
    "import time\n",
    "\n",
    "print( time.ctime())\n",
    "sec = time.ctime()[17]+time.ctime()[18]\n",
    "min = time.ctime()[14]+time.ctime()[15]\n",
    "hour = time.ctime()[11]+time.ctime()[12]\n",
    "print( int(hour)*60*60 + int(min)*60 + int(sec) )"
   ]
  },
  {
   "cell_type": "code",
   "execution_count": 40,
   "metadata": {},
   "outputs": [
    {
     "name": "stdout",
     "output_type": "stream",
     "text": [
      "I l\n"
     ]
    }
   ],
   "source": [
    "# SLICING\n",
    "mystring = \"I like Python!\"\n",
    "\n",
    "# afficher la sous-chaine qui va de la 1ere à la 3eme position\n",
    "print( mystring[0:3] )"
   ]
  },
  {
   "cell_type": "code",
   "execution_count": 41,
   "metadata": {},
   "outputs": [
    {
     "name": "stdout",
     "output_type": "stream",
     "text": [
      "I l\n"
     ]
    }
   ],
   "source": [
    "# ne rien mettre avant les deux points équivaut à un 0\n",
    "print( mystring[:3] )"
   ]
  },
  {
   "cell_type": "code",
   "execution_count": 42,
   "metadata": {},
   "outputs": [
    {
     "name": "stdout",
     "output_type": "stream",
     "text": [
      " like Python!\n"
     ]
    }
   ],
   "source": [
    "# afficher la sous chaîne qui va de la 2ème à la dernière position\n",
    "# ne rien mettre après les deux points veut dire aller jusqu’à la fin\n",
    "print( mystring[1:] ) \n"
   ]
  },
  {
   "cell_type": "code",
   "execution_count": 44,
   "metadata": {},
   "outputs": [
    {
     "name": "stdout",
     "output_type": "stream",
     "text": [
      "I like Py\n"
     ]
    }
   ],
   "source": [
    "# la sous chaine qui va de la 1ère à la 5e en partant de la fin.\n",
    "print( mystring[:-5] )"
   ]
  },
  {
   "cell_type": "code",
   "execution_count": 46,
   "metadata": {},
   "outputs": [
    {
     "name": "stdout",
     "output_type": "stream",
     "text": [
      "!nohtyP ekil I\n"
     ]
    }
   ],
   "source": [
    "# afficher la chaine à l’envers:\n",
    "print( mystring[::-1] )\n"
   ]
  },
  {
   "cell_type": "code",
   "execution_count": 47,
   "metadata": {},
   "outputs": [
    {
     "name": "stdout",
     "output_type": "stream",
     "text": [
      "Ilk yhn\n"
     ]
    }
   ],
   "source": [
    "# afficher la chaine à l’endroit en avançant de 2 caractères a chaque fois.\n",
    "print( mystring[::2] )\n"
   ]
  },
  {
   "cell_type": "code",
   "execution_count": 50,
   "metadata": {},
   "outputs": [
    {
     "name": "stdout",
     "output_type": "stream",
     "text": [
      "ython\n"
     ]
    }
   ],
   "source": [
    "# EXERCICES\n",
    "chaine = input(\"saisir une chaine de plus de 5 caracteres\")\n",
    "print(chaine[-5:])"
   ]
  },
  {
   "cell_type": "code",
   "execution_count": 52,
   "metadata": {},
   "outputs": [
    {
     "name": "stdout",
     "output_type": "stream",
     "text": [
      "Nohtyp ekil i\n",
      "nohtyp ekil I\n"
     ]
    }
   ],
   "source": [
    "print(chaine[::-1].capitalize())\n",
    "print(chaine.capitalize()[::-1])"
   ]
  },
  {
   "cell_type": "code",
   "execution_count": null,
   "metadata": {},
   "outputs": [],
   "source": []
  }
 ],
 "metadata": {
  "kernelspec": {
   "display_name": "Python 3",
   "language": "python",
   "name": "python3"
  },
  "language_info": {
   "codemirror_mode": {
    "name": "ipython",
    "version": 3
   },
   "file_extension": ".py",
   "mimetype": "text/x-python",
   "name": "python",
   "nbconvert_exporter": "python",
   "pygments_lexer": "ipython3",
   "version": "3.10.8"
  },
  "orig_nbformat": 4
 },
 "nbformat": 4,
 "nbformat_minor": 2
}
